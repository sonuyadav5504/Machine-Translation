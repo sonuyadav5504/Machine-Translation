{
 "cells": [
  {
   "cell_type": "code",
   "execution_count": 1,
   "id": "60714b54",
   "metadata": {
    "execution": {
     "iopub.execute_input": "2024-04-20T18:31:20.600032Z",
     "iopub.status.busy": "2024-04-20T18:31:20.599241Z",
     "iopub.status.idle": "2024-04-20T18:31:28.002943Z",
     "shell.execute_reply": "2024-04-20T18:31:28.002012Z"
    },
    "papermill": {
     "duration": 7.414383,
     "end_time": "2024-04-20T18:31:28.005132",
     "exception": false,
     "start_time": "2024-04-20T18:31:20.590749",
     "status": "completed"
    },
    "tags": []
   },
   "outputs": [
    {
     "name": "stdout",
     "output_type": "stream",
     "text": [
      "device : cuda\n"
     ]
    }
   ],
   "source": [
    "import torch\n",
    "import torch.nn as nn\n",
    "from torch import optim\n",
    "import torch.nn.functional as F\n",
    "from torch.optim.lr_scheduler import LambdaLR\n",
    "import math \n",
    "import numpy as np\n",
    "import unicodedata\n",
    "import re\n",
    "import pandas as pd\n",
    "device = torch.device(\"cuda\" if torch.cuda.is_available() else \"cpu\")\n",
    "print(\"device :\", device)"
   ]
  },
  {
   "cell_type": "code",
   "execution_count": 2,
   "id": "d1a82657",
   "metadata": {
    "execution": {
     "iopub.execute_input": "2024-04-20T18:31:28.020163Z",
     "iopub.status.busy": "2024-04-20T18:31:28.019565Z",
     "iopub.status.idle": "2024-04-20T18:31:28.033296Z",
     "shell.execute_reply": "2024-04-20T18:31:28.032646Z"
    },
    "papermill": {
     "duration": 0.023363,
     "end_time": "2024-04-20T18:31:28.035255",
     "exception": false,
     "start_time": "2024-04-20T18:31:28.011892",
     "status": "completed"
    },
    "tags": []
   },
   "outputs": [],
   "source": [
    "SOS_token = 0\n",
    "EOS_token = 1\n",
    "PAD_token = 2\n",
    "\n",
    "class Lang:\n",
    "    def __init__(self, name):\n",
    "        self.name = name\n",
    "        self.word2index = {} # every words get unique index\n",
    "        self.word2count = {} # count of every particular words in the dataset\n",
    "        self.index2word = {0: \"SOS\", 1: \"EOS\", 2:\"PAD\"}\n",
    "        self.n_words = 3  # Count SOS and EOS\n",
    "\n",
    "    def addSentence(self, sentence):\n",
    "        for word in sentence.split(' '):\n",
    "            self.addWord(word)\n",
    "\n",
    "    def addWord(self, word):\n",
    "        if word not in self.word2index:\n",
    "            self.word2index[word] = self.n_words\n",
    "            self.word2count[word] = 1\n",
    "            self.index2word[self.n_words] = word\n",
    "            self.n_words += 1\n",
    "        else:\n",
    "            self.word2count[word] += 1\n",
    "\n",
    "def unicodeToAscii(s):\n",
    "    return ''.join(\n",
    "        c for c in unicodedata.normalize('NFD', s)\n",
    "        if unicodedata.category(c) != 'Mn'\n",
    "    )\n",
    "\n",
    "# Lowercase, trim, and remove non-letter characters\n",
    "def normalizeString(s):\n",
    "    s = unicodeToAscii(s.lower().strip())\n",
    "    s = re.sub(r\"([.!?])\", r\" \\1\", s)\n",
    "    s = re.sub(r\"[^a-zA-Z.!?]+\", r\" \", s)\n",
    "    return s\n",
    "\n",
    "def readLangs(lang1, lang2):\n",
    "    df_original = pd.read_csv('/kaggle/input/eng-fr/eng_-french.csv')\n",
    "    df = df_original.sample(frac=1).reset_index(drop=True) # suffeling the dataset\n",
    "\n",
    "    lines = df.apply(lambda row: f\"{row['English words/sentences']}@@@{row['French words/sentences']}\", axis=1).tolist()\n",
    "\n",
    "    # Spliting every line into pairs and normalizing\n",
    "    pairs = [[normalizeString(s) for s in l.split('@@@')] for l in lines]\n",
    "\n",
    "    input_lang = Lang(lang1)\n",
    "    output_lang = Lang(lang2)\n",
    "\n",
    "    return input_lang, output_lang, pairs\n",
    "\n",
    "\n",
    "\n",
    "def filterPair(p):\n",
    "    return len(p[0].split(' ')) < 68 and \\\n",
    "        len(p[1].split(' ')) < 68 \n",
    "\n",
    "def filterPairs(pairs):\n",
    "    return [pair for pair in pairs if filterPair(pair)]"
   ]
  },
  {
   "cell_type": "code",
   "execution_count": 3,
   "id": "ec79698b",
   "metadata": {
    "execution": {
     "iopub.execute_input": "2024-04-20T18:31:28.050046Z",
     "iopub.status.busy": "2024-04-20T18:31:28.049508Z",
     "iopub.status.idle": "2024-04-20T18:31:41.250367Z",
     "shell.execute_reply": "2024-04-20T18:31:41.249410Z"
    },
    "papermill": {
     "duration": 13.210706,
     "end_time": "2024-04-20T18:31:41.252548",
     "exception": false,
     "start_time": "2024-04-20T18:31:28.041842",
     "status": "completed"
    },
    "tags": []
   },
   "outputs": [
    {
     "name": "stdout",
     "output_type": "stream",
     "text": [
      "Read 175621 sentence pairs\n",
      "Word counts:\n",
      "English 13913\n",
      "French 22851\n"
     ]
    }
   ],
   "source": [
    "def prepareData(lang1, lang2):\n",
    "    input_lang, output_lang, pairs = readLangs(lang1, lang2)\n",
    "    print(\"Read %s sentence pairs\" % len(pairs))\n",
    "    pairs = filterPairs(pairs)\n",
    "    for pair in pairs:\n",
    "        input_lang.addSentence(pair[0])\n",
    "        output_lang.addSentence(pair[1])\n",
    "    print(\"Word counts:\")\n",
    "    print(input_lang.name, input_lang.n_words)\n",
    "    print(output_lang.name, output_lang.n_words)\n",
    "    return input_lang, output_lang, pairs\n",
    "\n",
    "input_lang, output_lang, pairs = prepareData('English', 'French')"
   ]
  },
  {
   "cell_type": "code",
   "execution_count": 4,
   "id": "2c49545b",
   "metadata": {
    "execution": {
     "iopub.execute_input": "2024-04-20T18:31:41.267114Z",
     "iopub.status.busy": "2024-04-20T18:31:41.266825Z",
     "iopub.status.idle": "2024-04-20T18:31:41.278296Z",
     "shell.execute_reply": "2024-04-20T18:31:41.277597Z"
    },
    "papermill": {
     "duration": 0.020812,
     "end_time": "2024-04-20T18:31:41.280166",
     "exception": false,
     "start_time": "2024-04-20T18:31:41.259354",
     "status": "completed"
    },
    "tags": []
   },
   "outputs": [],
   "source": [
    "seq_len = 68\n",
    "def indexes_from_sentence(lang, sentence):\n",
    "    idxs = [lang.word2index[word] for word in sentence.split(' ')]\n",
    "    idxs.append(EOS_token)\n",
    "    idxs.insert(SOS_token,0)\n",
    "    return idxs\n",
    "    \n",
    "def batch_from_pairs(pairs):\n",
    "    batch_inp = [indexes_from_sentence(input_lang, p[0]) for p in pairs]\n",
    "    batch_inp = [seq+[PAD_token]*(seq_len-len(seq)) for seq in batch_inp]\n",
    "    input_tensor = torch.tensor(batch_inp, dtype=torch.long, device=device)\n",
    "    \n",
    "    batch_trg = [indexes_from_sentence(output_lang, p[1]) for p in pairs]\n",
    "    batch_trg = [seq+[PAD_token]*(seq_len-len(seq)) for seq in batch_trg]\n",
    "    target_tensor = torch.tensor(batch_trg, dtype=torch.long, device=device)    \n",
    "    \n",
    "    return input_tensor,target_tensor"
   ]
  },
  {
   "cell_type": "code",
   "execution_count": 5,
   "id": "4e33a223",
   "metadata": {
    "execution": {
     "iopub.execute_input": "2024-04-20T18:31:41.294405Z",
     "iopub.status.busy": "2024-04-20T18:31:41.294145Z",
     "iopub.status.idle": "2024-04-20T18:31:41.306342Z",
     "shell.execute_reply": "2024-04-20T18:31:41.305519Z"
    },
    "papermill": {
     "duration": 0.021517,
     "end_time": "2024-04-20T18:31:41.308230",
     "exception": false,
     "start_time": "2024-04-20T18:31:41.286713",
     "status": "completed"
    },
    "tags": []
   },
   "outputs": [],
   "source": [
    "# Configurations\n",
    "n_layers = 5\n",
    "d_model = 128\n",
    "n_heads = 8\n",
    "d_heads = d_model//n_heads\n",
    "\n",
    "def attention(q,k,v,dropout,mask=None):\n",
    "    b,h,l,dk = q.size()\n",
    "    x = torch.matmul(q,k.transpose(-2,-1)) / dk**0.5\n",
    "    \n",
    "    if mask is not None:\n",
    "        x= x.masked_fill(mask==0,-1e9)\n",
    "    x = x.softmax(dim=-1)\n",
    "    x = dropout(x)    \n",
    "    x = torch.matmul(x,v)\n",
    "    return x\n",
    "\n",
    "class MultiHeaderAttention(nn.Module):\n",
    "    def __init__(self,d_model,dropout,n_heads=n_heads, dk=d_heads,dv=d_heads):\n",
    "        super(MultiHeaderAttention,self).__init__()\n",
    "        self.dims = dk,dv,n_heads\n",
    "        self.q = nn.Linear(d_model, dk*n_heads)\n",
    "        self.k = nn.Linear(d_model, dk*n_heads)\n",
    "        self.v = nn.Linear(d_model, dv*n_heads)\n",
    "        self.dropout = nn.Dropout(p=dropout)\n",
    "\n",
    "        self.out = nn.Linear(dv*n_heads, d_model)\n",
    "            \n",
    "    def forward(self,k,v,q,mask=None):\n",
    "        b,len_k,len_q,len_v = k.size(0), k.size(1), q.size(1), v.size(1)\n",
    "        dk,dv,h =self.dims\n",
    "        q = self.q(q).view(b,len_q,h,dk).transpose(1,2)\n",
    "        k = self.k(k).view(b,len_k,h,dk).transpose(1,2)\n",
    "        v = self.v(v).view(b,len_v,h,dk).transpose(1,2)\n",
    "        if mask is not None:\n",
    "            mask = mask.unsqueeze(1) #put header dim for broadcasting\n",
    "            \n",
    "        x = attention(q,k,v, self.dropout, mask)\n",
    "        x = x.transpose(1,2).contiguous().view(b,len_q,h*dk) # swap headers and seq_len\n",
    "        return self.out(x)"
   ]
  },
  {
   "cell_type": "code",
   "execution_count": 6,
   "id": "fd56681d",
   "metadata": {
    "execution": {
     "iopub.execute_input": "2024-04-20T18:31:41.322579Z",
     "iopub.status.busy": "2024-04-20T18:31:41.322308Z",
     "iopub.status.idle": "2024-04-20T18:31:41.330400Z",
     "shell.execute_reply": "2024-04-20T18:31:41.329631Z"
    },
    "papermill": {
     "duration": 0.017574,
     "end_time": "2024-04-20T18:31:41.332285",
     "exception": false,
     "start_time": "2024-04-20T18:31:41.314711",
     "status": "completed"
    },
    "tags": []
   },
   "outputs": [],
   "source": [
    "class PositionEncoding(nn.Module):\n",
    "    def __init__(self,max_len,d_model):\n",
    "        super(PositionEncoding,self).__init__()\n",
    "        self.max_len = max_len+5\n",
    "        self.register_buffer('pos_table', self.tensor_pos_encoding(self.max_len, d_model))\n",
    "\n",
    "    def pos_encoding(self,pos, k):\n",
    "        \"\"\"taking an vocab index and generating a a geometric progression with k dimensions \"\"\"\n",
    "        f = lambda i,k: pos / 10000**(2 * (i // 2) / k)\n",
    "        return [math.sin(f(i,k)) if i%2==0 else math.cos(f(i,k)) for i in range(0,k)]\n",
    "\n",
    "    def tensor_pos_encoding(self,max_len,dim):\n",
    "        return torch.tensor([self.pos_encoding(i,dim) for i in range(max_len)],device=device).view( max_len,dim)\n",
    "\n",
    "    def forward(self,x):\n",
    "        return x+ self.pos_table[:x.size(1),:].detach().clone().unsqueeze(0)"
   ]
  },
  {
   "cell_type": "code",
   "execution_count": 7,
   "id": "a6eb87a0",
   "metadata": {
    "execution": {
     "iopub.execute_input": "2024-04-20T18:31:41.346236Z",
     "iopub.status.busy": "2024-04-20T18:31:41.345991Z",
     "iopub.status.idle": "2024-04-20T18:31:41.351139Z",
     "shell.execute_reply": "2024-04-20T18:31:41.350339Z"
    },
    "papermill": {
     "duration": 0.014093,
     "end_time": "2024-04-20T18:31:41.352929",
     "exception": false,
     "start_time": "2024-04-20T18:31:41.338836",
     "status": "completed"
    },
    "tags": []
   },
   "outputs": [],
   "source": [
    "# Residual Connection\n",
    "class ResidualConnection(nn.Module):\n",
    "    def __init__(self, size, dropout):\n",
    "        super(ResidualConnection, self).__init__()\n",
    "        self.norm = nn.LayerNorm(size)\n",
    "        self.dropout = nn.Dropout(dropout)\n",
    "\n",
    "    def forward(self, x, sublayer):\n",
    "        return x + self.dropout(sublayer(self.norm(x)))"
   ]
  },
  {
   "cell_type": "code",
   "execution_count": 8,
   "id": "1f93f4aa",
   "metadata": {
    "execution": {
     "iopub.execute_input": "2024-04-20T18:31:41.366801Z",
     "iopub.status.busy": "2024-04-20T18:31:41.366531Z",
     "iopub.status.idle": "2024-04-20T18:31:41.376998Z",
     "shell.execute_reply": "2024-04-20T18:31:41.376191Z"
    },
    "papermill": {
     "duration": 0.019644,
     "end_time": "2024-04-20T18:31:41.378913",
     "exception": false,
     "start_time": "2024-04-20T18:31:41.359269",
     "status": "completed"
    },
    "tags": []
   },
   "outputs": [],
   "source": [
    "class Encoder(nn.Module):\n",
    "    def __init__(self, n_input_vocab, d_model,n_hidden,n_layers,dropout):\n",
    "        super().__init__()\n",
    "        self.d_model = d_model\n",
    "        \n",
    "        self.embedding = nn.Embedding(n_input_vocab,d_model,padding_idx=PAD_token)\n",
    "        self.dropout = nn.Dropout(p=dropout)\n",
    "        self.normal = nn.LayerNorm(d_model, eps=1e-6)   \n",
    "        self.encoder_layers = nn.ModuleList(\n",
    "            [EncoderLayer(d_model, n_hidden,dropout) for i in range(n_layers)]\n",
    "            )\n",
    "\n",
    "        self.pos_enc = PositionEncoding(seq_len,d_model)\n",
    "\n",
    "        \n",
    "    def forward(self,x,mask):\n",
    "        x = self.embedding(x) * self.d_model**0.5\n",
    "        x = self.pos_enc(x)\n",
    "        \n",
    "        #stack of N  identical layers\n",
    "        for layer in self.encoder_layers:\n",
    "            x = layer(x,mask)\n",
    "        return self.normal(x)\n",
    "\n",
    "\n",
    "class EncoderLayer(nn.Module):\n",
    "    def __init__(self, d_model, n_hidden,dropout):\n",
    "        super(EncoderLayer, self).__init__()\n",
    "        self.self_attn = attn = MultiHeaderAttention(d_model,dropout)\n",
    "        self.feed_forward = nn.Sequential(\n",
    "                        nn.Linear(d_model,n_hidden), \n",
    "                        nn.ReLU(),\n",
    "                        nn.Dropout(p=dropout),\n",
    "                        nn.Linear(n_hidden,d_model) \n",
    "        )\n",
    "        self.sublayer = nn.ModuleList([ResidualConnection(d_model, dropout) for i in range(2)])\n",
    "\n",
    "    def forward(self, x, mask):\n",
    "        x = self.sublayer[0](x, lambda x: self.self_attn(x, x, x, mask))\n",
    "        return self.sublayer[1](x, self.feed_forward)"
   ]
  },
  {
   "cell_type": "code",
   "execution_count": 9,
   "id": "3f1e8983",
   "metadata": {
    "execution": {
     "iopub.execute_input": "2024-04-20T18:31:41.392811Z",
     "iopub.status.busy": "2024-04-20T18:31:41.392560Z",
     "iopub.status.idle": "2024-04-20T18:31:41.404285Z",
     "shell.execute_reply": "2024-04-20T18:31:41.403462Z"
    },
    "papermill": {
     "duration": 0.020789,
     "end_time": "2024-04-20T18:31:41.406208",
     "exception": false,
     "start_time": "2024-04-20T18:31:41.385419",
     "status": "completed"
    },
    "tags": []
   },
   "outputs": [],
   "source": [
    "class Decoder(nn.Module):\n",
    "    def __init__(self,n_target_vocab,d_model, n_hidden,n_layers,dropout):\n",
    "        super().__init__()\n",
    "        self.d_model = d_model\n",
    "        \n",
    "        self.embedding = nn.Embedding(n_target_vocab,d_model,padding_idx=PAD_token)\n",
    "        self.dropout = nn.Dropout(p=dropout)\n",
    "        self.normal = nn.LayerNorm(d_model, eps=1e-6)\n",
    "        self.decoder_layers = nn.ModuleList(\n",
    "            [DecoderLayer(d_model, n_hidden,dropout) for i in range(n_layers)]\n",
    "            )\n",
    "            \n",
    "        self.pos_enc = PositionEncoding(seq_len,d_model)\n",
    "        \n",
    "    def forward(self,x,encoder_outputs,self_attn_mask, enc_dec_mask):\n",
    "        x = self.embedding(x)*self.d_model**0.5\n",
    "        x = self.pos_enc(x)\n",
    "        \n",
    "        #stack of N identical layers\n",
    "        for layer in self.decoder_layers:\n",
    "            x = layer(x,encoder_outputs,self_attn_mask, enc_dec_mask)\n",
    "        \n",
    "        return self.normal(x)\n",
    "    \n",
    "class DecoderLayer(nn.Module):\n",
    "    def __init__(self, d_model, n_hidden,dropout):\n",
    "        super(DecoderLayer, self).__init__()\n",
    "\n",
    "        self.self_attn = MultiHeaderAttention(d_model,dropout)\n",
    "        self.src_attn = MultiHeaderAttention(d_model,dropout)\n",
    "        self.feed_forward = nn.Sequential(\n",
    "                        nn.Linear(d_model,n_hidden), \n",
    "                        nn.ReLU(),\n",
    "                        nn.Dropout(p=dropout),\n",
    "                        nn.Linear(n_hidden,d_model) \n",
    "        )\n",
    "        self.sublayer = nn.ModuleList([ResidualConnection(d_model, dropout) for i in range(3)])\n",
    "\n",
    "    def forward(self, x, memory, tgt_mask,src_mask):\n",
    "        m = memory\n",
    "        x = self.sublayer[0](x, lambda x: self.self_attn(x, x, x, tgt_mask))\n",
    "        x = self.sublayer[1](x, lambda x: self.src_attn(m, m, x,src_mask))\n",
    "        return self.sublayer[2](x, self.feed_forward)"
   ]
  },
  {
   "cell_type": "code",
   "execution_count": 10,
   "id": "34067f5a",
   "metadata": {
    "execution": {
     "iopub.execute_input": "2024-04-20T18:31:41.421193Z",
     "iopub.status.busy": "2024-04-20T18:31:41.420944Z",
     "iopub.status.idle": "2024-04-20T18:31:41.429191Z",
     "shell.execute_reply": "2024-04-20T18:31:41.428364Z"
    },
    "papermill": {
     "duration": 0.017505,
     "end_time": "2024-04-20T18:31:41.431118",
     "exception": false,
     "start_time": "2024-04-20T18:31:41.413613",
     "status": "completed"
    },
    "tags": []
   },
   "outputs": [],
   "source": [
    "class Transformer(nn.Module):\n",
    "    def __init__(self,d_model, n_input_vocab,n_target_vocab, n_hidden,n_layers,dropout):\n",
    "        super().__init__()\n",
    "\n",
    "        self.encoder = Encoder(n_input_vocab, d_model, n_hidden, n_layers, dropout)\n",
    "        self.decoder = Decoder(n_target_vocab, d_model, n_hidden, n_layers,dropout)\n",
    "        self.out = nn.Linear(d_model, n_target_vocab)  \n",
    "        \n",
    "    def get_target_mask(self, target_seq):\n",
    "        b_sz, len_s = target_seq.size()\n",
    "        return torch.tril(torch.ones(len_s,len_s,device=device)).bool().expand(1,len_s,len_s)\n",
    "\n",
    "    def get_pad_mask(self,seq):\n",
    "        return (seq != PAD_token).unsqueeze(-2)   \n",
    "    \n",
    "    def forward(self,input_seq, target_seq):\n",
    "        trg_mask = self.get_pad_mask(target_seq)\n",
    "        trg_mask = trg_mask & self.get_target_mask(target_seq).type_as(trg_mask.data)\n",
    "        inp_mask = self.get_pad_mask(input_seq)\n",
    "\n",
    "        encoder_out = self.encoder(input_seq,inp_mask)\n",
    "        decoder_out = self.decoder(target_seq,encoder_out,trg_mask,inp_mask)\n",
    "        \n",
    "        out = self.out(decoder_out)\n",
    "        return out\n"
   ]
  },
  {
   "cell_type": "markdown",
   "id": "cf95fce7",
   "metadata": {
    "papermill": {
     "duration": 0.006294,
     "end_time": "2024-04-20T18:31:41.443969",
     "exception": false,
     "start_time": "2024-04-20T18:31:41.437675",
     "status": "completed"
    },
    "tags": []
   },
   "source": [
    "# for 5 encoder and 5 decoder blocks"
   ]
  },
  {
   "cell_type": "code",
   "execution_count": 11,
   "id": "034e5b06",
   "metadata": {
    "execution": {
     "iopub.execute_input": "2024-04-20T18:31:41.458113Z",
     "iopub.status.busy": "2024-04-20T18:31:41.457865Z",
     "iopub.status.idle": "2024-04-20T18:31:41.905371Z",
     "shell.execute_reply": "2024-04-20T18:31:41.904619Z"
    },
    "papermill": {
     "duration": 0.457158,
     "end_time": "2024-04-20T18:31:41.907709",
     "exception": false,
     "start_time": "2024-04-20T18:31:41.450551",
     "status": "completed"
    },
    "tags": []
   },
   "outputs": [],
   "source": [
    "#splitting the data into train and test datasets\n",
    "l = len(pairs)\n",
    "train = pairs[:int(l*0.7)] # 70% of whole data\n",
    "test = pairs[int(l*0.7):] # 30% for testing\n",
    "val = train[int(len(train)*0.85):] # 15% of training data\n",
    "\n",
    "\n",
    "#the model with the parameter-values of the paper\n",
    "transformer1 = Transformer(d_model=d_model, \n",
    "                            n_input_vocab=input_lang.n_words, \n",
    "                            n_target_vocab= output_lang.n_words,\n",
    "                            n_hidden = 225,\n",
    "                            n_layers=n_layers, \n",
    "                            dropout=0.1).to(device)\n",
    "\n",
    "transformer1 = nn.DataParallel(transformer1)\n",
    "\n",
    "for p in transformer1.parameters():\n",
    "    if p.dim() > 1:\n",
    "        nn.init.xavier_uniform_(p)"
   ]
  },
  {
   "cell_type": "code",
   "execution_count": 12,
   "id": "26231fef",
   "metadata": {
    "execution": {
     "iopub.execute_input": "2024-04-20T18:31:41.922750Z",
     "iopub.status.busy": "2024-04-20T18:31:41.922426Z",
     "iopub.status.idle": "2024-04-20T18:31:45.709377Z",
     "shell.execute_reply": "2024-04-20T18:31:45.708639Z"
    },
    "papermill": {
     "duration": 3.797004,
     "end_time": "2024-04-20T18:31:45.711546",
     "exception": false,
     "start_time": "2024-04-20T18:31:41.914542",
     "status": "completed"
    },
    "tags": []
   },
   "outputs": [],
   "source": [
    "# Adam optimizer \n",
    "lr= 1\n",
    "opt1 = optim.Adam(transformer1.parameters(),lr=lr)\n",
    "\n",
    "def lr_rate(step_num, d_model, factor, warmup_steps):\n",
    "    step_num =max(1,step_num)\n",
    "    return factor * (\n",
    "        d_model ** (-0.5) * min(step_num ** (-0.5), step_num * warmup_steps ** (-1.5))\n",
    "    )\n",
    "\n",
    "lr_scheduler = LambdaLR(\n",
    "    optimizer=opt1,\n",
    "    lr_lambda=lambda step_num: lr_rate(\n",
    "        step_num, 512, factor=1, warmup_steps=4000\n",
    "    ),\n",
    ")"
   ]
  },
  {
   "cell_type": "code",
   "execution_count": 13,
   "id": "09398a45",
   "metadata": {
    "execution": {
     "iopub.execute_input": "2024-04-20T18:31:45.726300Z",
     "iopub.status.busy": "2024-04-20T18:31:45.725889Z",
     "iopub.status.idle": "2024-04-20T18:31:45.732215Z",
     "shell.execute_reply": "2024-04-20T18:31:45.731389Z"
    },
    "papermill": {
     "duration": 0.015734,
     "end_time": "2024-04-20T18:31:45.734134",
     "exception": false,
     "start_time": "2024-04-20T18:31:45.718400",
     "status": "completed"
    },
    "tags": []
   },
   "outputs": [],
   "source": [
    "def pred(input_seq, model):\n",
    "    outputs = [SOS_token]\n",
    "    \n",
    "    for i in range(seq_len):\n",
    "        target_seq = torch.tensor([outputs],device=device)\n",
    "        output = model(input_seq,target_seq)\n",
    "        probs = F.softmax(output,dim=2)\n",
    "        word_pred = torch.argmax(probs[:,-1,:],dim=1)\n",
    "\n",
    "        outputs.append(word_pred.item())\n",
    "\n",
    "        if word_pred.item()== EOS_token:\n",
    "            break\n",
    "    \n",
    "    return outputs[1:]"
   ]
  },
  {
   "cell_type": "code",
   "execution_count": 14,
   "id": "3b2a3d0a",
   "metadata": {
    "execution": {
     "iopub.execute_input": "2024-04-20T18:31:45.748184Z",
     "iopub.status.busy": "2024-04-20T18:31:45.747926Z",
     "iopub.status.idle": "2024-04-20T18:31:45.753421Z",
     "shell.execute_reply": "2024-04-20T18:31:45.752615Z"
    },
    "papermill": {
     "duration": 0.014698,
     "end_time": "2024-04-20T18:31:45.755332",
     "exception": false,
     "start_time": "2024-04-20T18:31:45.740634",
     "status": "completed"
    },
    "tags": []
   },
   "outputs": [],
   "source": [
    "def train_batch(input_seq, target_seq, model, optimizer,scheduler):\n",
    "    target, truth = target_seq[:,:-1], target_seq[:,1:]\n",
    "    pred = model(input_seq,target)\n",
    "    \n",
    "    loss = F.cross_entropy(pred.view(-1,output_lang.n_words), truth.reshape(-1),label_smoothing=0.1) # this is mean of loss for each tokens\n",
    "    \n",
    "    loss.backward()\n",
    "    optimizer.step()\n",
    "    optimizer.zero_grad()\n",
    "    scheduler.step()\n",
    "\n",
    "    return loss.item()"
   ]
  },
  {
   "cell_type": "code",
   "execution_count": 15,
   "id": "a6ae5ed7",
   "metadata": {
    "execution": {
     "iopub.execute_input": "2024-04-20T18:31:45.769373Z",
     "iopub.status.busy": "2024-04-20T18:31:45.769112Z",
     "iopub.status.idle": "2024-04-21T06:14:23.724588Z",
     "shell.execute_reply": "2024-04-21T06:14:23.723689Z"
    },
    "papermill": {
     "duration": 42157.986858,
     "end_time": "2024-04-21T06:14:23.748679",
     "exception": false,
     "start_time": "2024-04-20T18:31:45.761821",
     "status": "completed"
    },
    "tags": []
   },
   "outputs": [
    {
     "name": "stdout",
     "output_type": "stream",
     "text": [
      "Epoch 1/200 | Training loss: 4.96 | Validation accuracy: 18.0% | Learning rate: 0.000215\n",
      "Epoch 2/200 | Training loss: 1.87 | Validation accuracy: 44.0% | Learning rate: 0.00043\n",
      "Epoch 3/200 | Training loss: 1.69 | Validation accuracy: 61.0% | Learning rate: 0.000645\n",
      "Epoch 4/200 | Training loss: 1.58 | Validation accuracy: 70.0% | Learning rate: 0.00063\n",
      "Epoch 5/200 | Training loss: 1.53 | Validation accuracy: 74.0% | Learning rate: 0.000564\n",
      "Epoch 6/200 | Training loss: 1.5 | Validation accuracy: 77.0% | Learning rate: 0.000514\n",
      "Epoch 7/200 | Training loss: 1.48 | Validation accuracy: 79.0% | Learning rate: 0.000476\n",
      "Epoch 8/200 | Training loss: 1.47 | Validation accuracy: 80.0% | Learning rate: 0.000446\n",
      "Epoch 9/200 | Training loss: 1.46 | Validation accuracy: 82.0% | Learning rate: 0.00042\n",
      "Epoch 10/200 | Training loss: 1.45 | Validation accuracy: 83.0% | Learning rate: 0.000398\n",
      "Epoch 11/200 | Training loss: 1.44 | Validation accuracy: 83.0% | Learning rate: 0.00038\n",
      "Epoch 12/200 | Training loss: 1.44 | Validation accuracy: 84.0% | Learning rate: 0.000364\n",
      "Epoch 13/200 | Training loss: 1.43 | Validation accuracy: 85.0% | Learning rate: 0.000349\n",
      "Epoch 14/200 | Training loss: 1.43 | Validation accuracy: 85.0% | Learning rate: 0.000337\n",
      "Epoch 15/200 | Training loss: 1.42 | Validation accuracy: 86.0% | Learning rate: 0.000325\n",
      "Epoch 16/200 | Training loss: 1.42 | Validation accuracy: 86.0% | Learning rate: 0.000315\n",
      "Epoch 17/200 | Training loss: 1.42 | Validation accuracy: 87.0% | Learning rate: 0.000306\n",
      "Epoch 18/200 | Training loss: 1.41 | Validation accuracy: 87.0% | Learning rate: 0.000297\n",
      "Epoch 19/200 | Training loss: 1.41 | Validation accuracy: 87.0% | Learning rate: 0.000289\n",
      "Epoch 20/200 | Training loss: 1.41 | Validation accuracy: 88.0% | Learning rate: 0.000282\n",
      "Epoch 21/200 | Training loss: 1.41 | Validation accuracy: 88.0% | Learning rate: 0.000275\n",
      "Epoch 22/200 | Training loss: 1.41 | Validation accuracy: 88.0% | Learning rate: 0.000269\n",
      "Epoch 23/200 | Training loss: 1.4 | Validation accuracy: 89.0% | Learning rate: 0.000263\n",
      "Epoch 24/200 | Training loss: 1.4 | Validation accuracy: 89.0% | Learning rate: 0.000257\n",
      "Epoch 25/200 | Training loss: 1.4 | Validation accuracy: 89.0% | Learning rate: 0.000252\n",
      "Epoch 26/200 | Training loss: 1.4 | Validation accuracy: 89.0% | Learning rate: 0.000247\n",
      "Epoch 27/200 | Training loss: 1.4 | Validation accuracy: 89.0% | Learning rate: 0.000243\n",
      "Epoch 28/200 | Training loss: 1.4 | Validation accuracy: 90.0% | Learning rate: 0.000238\n",
      "Epoch 29/200 | Training loss: 1.4 | Validation accuracy: 89.0% | Learning rate: 0.000234\n",
      "Epoch 30/200 | Training loss: 1.4 | Validation accuracy: 90.0% | Learning rate: 0.00023\n",
      "Epoch 31/200 | Training loss: 1.39 | Validation accuracy: 90.0% | Learning rate: 0.000226\n",
      "Epoch 32/200 | Training loss: 1.39 | Validation accuracy: 90.0% | Learning rate: 0.000223\n",
      "Epoch 33/200 | Training loss: 1.39 | Validation accuracy: 90.0% | Learning rate: 0.000219\n",
      "Epoch 34/200 | Training loss: 1.39 | Validation accuracy: 90.0% | Learning rate: 0.000216\n",
      "Epoch 35/200 | Training loss: 1.39 | Validation accuracy: 90.0% | Learning rate: 0.000213\n",
      "Epoch 36/200 | Training loss: 1.39 | Validation accuracy: 90.0% | Learning rate: 0.00021\n",
      "Epoch 37/200 | Training loss: 1.39 | Validation accuracy: 91.0% | Learning rate: 0.000207\n",
      "Epoch 38/200 | Training loss: 1.39 | Validation accuracy: 91.0% | Learning rate: 0.000204\n",
      "Epoch 39/200 | Training loss: 1.39 | Validation accuracy: 91.0% | Learning rate: 0.000202\n",
      "Epoch 40/200 | Training loss: 1.39 | Validation accuracy: 91.0% | Learning rate: 0.000199\n",
      "Epoch 41/200 | Training loss: 1.39 | Validation accuracy: 91.0% | Learning rate: 0.000197\n",
      "Epoch 42/200 | Training loss: 1.39 | Validation accuracy: 91.0% | Learning rate: 0.000194\n",
      "Epoch 43/200 | Training loss: 1.39 | Validation accuracy: 91.0% | Learning rate: 0.000192\n",
      "Epoch 44/200 | Training loss: 1.39 | Validation accuracy: 91.0% | Learning rate: 0.00019\n",
      "Epoch 45/200 | Training loss: 1.39 | Validation accuracy: 91.0% | Learning rate: 0.000188\n",
      "Epoch 46/200 | Training loss: 1.39 | Validation accuracy: 91.0% | Learning rate: 0.000186\n",
      "Epoch 47/200 | Training loss: 1.38 | Validation accuracy: 91.0% | Learning rate: 0.000184\n",
      "Epoch 48/200 | Training loss: 1.38 | Validation accuracy: 91.0% | Learning rate: 0.000182\n",
      "Epoch 49/200 | Training loss: 1.38 | Validation accuracy: 91.0% | Learning rate: 0.00018\n",
      "Epoch 50/200 | Training loss: 1.38 | Validation accuracy: 91.0% | Learning rate: 0.000178\n",
      "Epoch 51/200 | Training loss: 1.38 | Validation accuracy: 91.0% | Learning rate: 0.000176\n",
      "Epoch 52/200 | Training loss: 1.38 | Validation accuracy: 92.0% | Learning rate: 0.000175\n",
      "Epoch 53/200 | Training loss: 1.38 | Validation accuracy: 92.0% | Learning rate: 0.000173\n",
      "Epoch 54/200 | Training loss: 1.38 | Validation accuracy: 92.0% | Learning rate: 0.000171\n",
      "Epoch 55/200 | Training loss: 1.38 | Validation accuracy: 92.0% | Learning rate: 0.00017\n",
      "Epoch 56/200 | Training loss: 1.38 | Validation accuracy: 92.0% | Learning rate: 0.000168\n",
      "Epoch 57/200 | Training loss: 1.38 | Validation accuracy: 92.0% | Learning rate: 0.000167\n",
      "Epoch 58/200 | Training loss: 1.38 | Validation accuracy: 92.0% | Learning rate: 0.000165\n",
      "Epoch 59/200 | Training loss: 1.38 | Validation accuracy: 92.0% | Learning rate: 0.000164\n",
      "Epoch 60/200 | Training loss: 1.38 | Validation accuracy: 92.0% | Learning rate: 0.000163\n",
      "Epoch 61/200 | Training loss: 1.38 | Validation accuracy: 92.0% | Learning rate: 0.000161\n",
      "Epoch 62/200 | Training loss: 1.38 | Validation accuracy: 92.0% | Learning rate: 0.00016\n",
      "Epoch 63/200 | Training loss: 1.38 | Validation accuracy: 92.0% | Learning rate: 0.000159\n",
      "Epoch 64/200 | Training loss: 1.38 | Validation accuracy: 92.0% | Learning rate: 0.000158\n",
      "Epoch 65/200 | Training loss: 1.38 | Validation accuracy: 92.0% | Learning rate: 0.000156\n",
      "Epoch 66/200 | Training loss: 1.38 | Validation accuracy: 92.0% | Learning rate: 0.000155\n",
      "Epoch 67/200 | Training loss: 1.38 | Validation accuracy: 92.0% | Learning rate: 0.000154\n",
      "Epoch 68/200 | Training loss: 1.38 | Validation accuracy: 92.0% | Learning rate: 0.000153\n",
      "Epoch 69/200 | Training loss: 1.38 | Validation accuracy: 92.0% | Learning rate: 0.000152\n",
      "Epoch 70/200 | Training loss: 1.38 | Validation accuracy: 92.0% | Learning rate: 0.000151\n",
      "Epoch 71/200 | Training loss: 1.38 | Validation accuracy: 92.0% | Learning rate: 0.00015\n",
      "Epoch 72/200 | Training loss: 1.38 | Validation accuracy: 92.0% | Learning rate: 0.000149\n",
      "Epoch 73/200 | Training loss: 1.38 | Validation accuracy: 92.0% | Learning rate: 0.000147\n",
      "Epoch 74/200 | Training loss: 1.38 | Validation accuracy: 92.0% | Learning rate: 0.000146\n",
      "Epoch 75/200 | Training loss: 1.38 | Validation accuracy: 92.0% | Learning rate: 0.000146\n",
      "Epoch 76/200 | Training loss: 1.38 | Validation accuracy: 92.0% | Learning rate: 0.000145\n",
      "Epoch 77/200 | Training loss: 1.38 | Validation accuracy: 92.0% | Learning rate: 0.000144\n",
      "Epoch 78/200 | Training loss: 1.38 | Validation accuracy: 92.0% | Learning rate: 0.000143\n",
      "Epoch 79/200 | Training loss: 1.38 | Validation accuracy: 92.0% | Learning rate: 0.000142\n",
      "Epoch 80/200 | Training loss: 1.38 | Validation accuracy: 93.0% | Learning rate: 0.000141\n",
      "Epoch 81/200 | Training loss: 1.38 | Validation accuracy: 93.0% | Learning rate: 0.00014\n",
      "Epoch 82/200 | Training loss: 1.38 | Validation accuracy: 93.0% | Learning rate: 0.000139\n",
      "Epoch 83/200 | Training loss: 1.38 | Validation accuracy: 93.0% | Learning rate: 0.000138\n",
      "Epoch 84/200 | Training loss: 1.37 | Validation accuracy: 93.0% | Learning rate: 0.000137\n",
      "Epoch 85/200 | Training loss: 1.37 | Validation accuracy: 93.0% | Learning rate: 0.000137\n",
      "Epoch 86/200 | Training loss: 1.37 | Validation accuracy: 93.0% | Learning rate: 0.000136\n",
      "Epoch 87/200 | Training loss: 1.37 | Validation accuracy: 93.0% | Learning rate: 0.000135\n",
      "Epoch 88/200 | Training loss: 1.37 | Validation accuracy: 93.0% | Learning rate: 0.000134\n",
      "Epoch 89/200 | Training loss: 1.37 | Validation accuracy: 93.0% | Learning rate: 0.000134\n",
      "Epoch 90/200 | Training loss: 1.37 | Validation accuracy: 93.0% | Learning rate: 0.000133\n",
      "Epoch 91/200 | Training loss: 1.37 | Validation accuracy: 93.0% | Learning rate: 0.000132\n",
      "Epoch 92/200 | Training loss: 1.37 | Validation accuracy: 93.0% | Learning rate: 0.000131\n",
      "Epoch 93/200 | Training loss: 1.37 | Validation accuracy: 93.0% | Learning rate: 0.000131\n",
      "Epoch 94/200 | Training loss: 1.37 | Validation accuracy: 93.0% | Learning rate: 0.00013\n",
      "Epoch 95/200 | Training loss: 1.37 | Validation accuracy: 93.0% | Learning rate: 0.000129\n",
      "Epoch 96/200 | Training loss: 1.37 | Validation accuracy: 93.0% | Learning rate: 0.000129\n",
      "Epoch 97/200 | Training loss: 1.37 | Validation accuracy: 93.0% | Learning rate: 0.000128\n",
      "Epoch 98/200 | Training loss: 1.37 | Validation accuracy: 93.0% | Learning rate: 0.000127\n",
      "Epoch 99/200 | Training loss: 1.37 | Validation accuracy: 93.0% | Learning rate: 0.000127\n",
      "Epoch 100/200 | Training loss: 1.37 | Validation accuracy: 93.0% | Learning rate: 0.000126\n",
      "Epoch 101/200 | Training loss: 1.37 | Validation accuracy: 93.0% | Learning rate: 0.000125\n",
      "Epoch 102/200 | Training loss: 1.37 | Validation accuracy: 93.0% | Learning rate: 0.000125\n",
      "Epoch 103/200 | Training loss: 1.37 | Validation accuracy: 93.0% | Learning rate: 0.000124\n",
      "Epoch 104/200 | Training loss: 1.37 | Validation accuracy: 93.0% | Learning rate: 0.000124\n",
      "Epoch 105/200 | Training loss: 1.37 | Validation accuracy: 93.0% | Learning rate: 0.000123\n",
      "Epoch 106/200 | Training loss: 1.37 | Validation accuracy: 93.0% | Learning rate: 0.000122\n",
      "Epoch 107/200 | Training loss: 1.37 | Validation accuracy: 93.0% | Learning rate: 0.000122\n",
      "Epoch 108/200 | Training loss: 1.37 | Validation accuracy: 93.0% | Learning rate: 0.000121\n",
      "Epoch 109/200 | Training loss: 1.37 | Validation accuracy: 93.0% | Learning rate: 0.000121\n",
      "Epoch 110/200 | Training loss: 1.37 | Validation accuracy: 93.0% | Learning rate: 0.00012\n",
      "Epoch 111/200 | Training loss: 1.37 | Validation accuracy: 93.0% | Learning rate: 0.00012\n",
      "Epoch 112/200 | Training loss: 1.37 | Validation accuracy: 93.0% | Learning rate: 0.000119\n",
      "Epoch 113/200 | Training loss: 1.37 | Validation accuracy: 93.0% | Learning rate: 0.000119\n",
      "Epoch 114/200 | Training loss: 1.37 | Validation accuracy: 93.0% | Learning rate: 0.000118\n",
      "Epoch 115/200 | Training loss: 1.37 | Validation accuracy: 93.0% | Learning rate: 0.000118\n",
      "Epoch 116/200 | Training loss: 1.37 | Validation accuracy: 93.0% | Learning rate: 0.000117\n",
      "Epoch 117/200 | Training loss: 1.37 | Validation accuracy: 93.0% | Learning rate: 0.000116\n",
      "Epoch 118/200 | Training loss: 1.37 | Validation accuracy: 93.0% | Learning rate: 0.000116\n",
      "Epoch 119/200 | Training loss: 1.37 | Validation accuracy: 93.0% | Learning rate: 0.000116\n",
      "Epoch 120/200 | Training loss: 1.37 | Validation accuracy: 93.0% | Learning rate: 0.000115\n",
      "Epoch 121/200 | Training loss: 1.37 | Validation accuracy: 93.0% | Learning rate: 0.000115\n",
      "Epoch 122/200 | Training loss: 1.37 | Validation accuracy: 93.0% | Learning rate: 0.000114\n",
      "Epoch 123/200 | Training loss: 1.37 | Validation accuracy: 93.0% | Learning rate: 0.000114\n",
      "Epoch 124/200 | Training loss: 1.37 | Validation accuracy: 93.0% | Learning rate: 0.000113\n",
      "Epoch 125/200 | Training loss: 1.37 | Validation accuracy: 93.0% | Learning rate: 0.000113\n",
      "Epoch 126/200 | Training loss: 1.37 | Validation accuracy: 93.0% | Learning rate: 0.000112\n",
      "Epoch 127/200 | Training loss: 1.37 | Validation accuracy: 93.0% | Learning rate: 0.000112\n",
      "Epoch 128/200 | Training loss: 1.37 | Validation accuracy: 93.0% | Learning rate: 0.000111\n",
      "Epoch 129/200 | Training loss: 1.37 | Validation accuracy: 93.0% | Learning rate: 0.000111\n",
      "Epoch 130/200 | Training loss: 1.37 | Validation accuracy: 93.0% | Learning rate: 0.000111\n",
      "Epoch 131/200 | Training loss: 1.37 | Validation accuracy: 93.0% | Learning rate: 0.00011\n",
      "Epoch 132/200 | Training loss: 1.37 | Validation accuracy: 93.0% | Learning rate: 0.00011\n",
      "Epoch 133/200 | Training loss: 1.37 | Validation accuracy: 93.0% | Learning rate: 0.000109\n",
      "Epoch 134/200 | Training loss: 1.37 | Validation accuracy: 93.0% | Learning rate: 0.000109\n",
      "Epoch 135/200 | Training loss: 1.37 | Validation accuracy: 93.0% | Learning rate: 0.000108\n",
      "Epoch 136/200 | Training loss: 1.37 | Validation accuracy: 93.0% | Learning rate: 0.000108\n",
      "Epoch 137/200 | Training loss: 1.37 | Validation accuracy: 93.0% | Learning rate: 0.000108\n",
      "Epoch 138/200 | Training loss: 1.37 | Validation accuracy: 93.0% | Learning rate: 0.000107\n",
      "Epoch 139/200 | Training loss: 1.37 | Validation accuracy: 93.0% | Learning rate: 0.000107\n",
      "Epoch 140/200 | Training loss: 1.37 | Validation accuracy: 94.0% | Learning rate: 0.000106\n",
      "Epoch 141/200 | Training loss: 1.37 | Validation accuracy: 93.0% | Learning rate: 0.000106\n",
      "Epoch 142/200 | Training loss: 1.37 | Validation accuracy: 94.0% | Learning rate: 0.000106\n",
      "Epoch 143/200 | Training loss: 1.37 | Validation accuracy: 94.0% | Learning rate: 0.000105\n",
      "Epoch 144/200 | Training loss: 1.37 | Validation accuracy: 93.0% | Learning rate: 0.000105\n",
      "Epoch 145/200 | Training loss: 1.37 | Validation accuracy: 93.0% | Learning rate: 0.000105\n",
      "Epoch 146/200 | Training loss: 1.37 | Validation accuracy: 93.0% | Learning rate: 0.000104\n",
      "Epoch 147/200 | Training loss: 1.37 | Validation accuracy: 93.0% | Learning rate: 0.000104\n",
      "Epoch 148/200 | Training loss: 1.37 | Validation accuracy: 94.0% | Learning rate: 0.000104\n",
      "Epoch 149/200 | Training loss: 1.37 | Validation accuracy: 93.0% | Learning rate: 0.000103\n",
      "Epoch 150/200 | Training loss: 1.37 | Validation accuracy: 94.0% | Learning rate: 0.000103\n",
      "Epoch 151/200 | Training loss: 1.37 | Validation accuracy: 94.0% | Learning rate: 0.000103\n",
      "Epoch 152/200 | Training loss: 1.37 | Validation accuracy: 94.0% | Learning rate: 0.000102\n",
      "Epoch 153/200 | Training loss: 1.37 | Validation accuracy: 94.0% | Learning rate: 0.000102\n",
      "Epoch 154/200 | Training loss: 1.37 | Validation accuracy: 94.0% | Learning rate: 0.000102\n",
      "Epoch 155/200 | Training loss: 1.37 | Validation accuracy: 94.0% | Learning rate: 0.000101\n",
      "Epoch 156/200 | Training loss: 1.37 | Validation accuracy: 94.0% | Learning rate: 0.000101\n",
      "Epoch 157/200 | Training loss: 1.37 | Validation accuracy: 94.0% | Learning rate: 0.000101\n",
      "Epoch 158/200 | Training loss: 1.37 | Validation accuracy: 94.0% | Learning rate: 0.0001\n",
      "Epoch 159/200 | Training loss: 1.37 | Validation accuracy: 94.0% | Learning rate: 0.0001\n",
      "Epoch 160/200 | Training loss: 1.37 | Validation accuracy: 94.0% | Learning rate: 0.0001\n",
      "Epoch 161/200 | Training loss: 1.37 | Validation accuracy: 94.0% | Learning rate: 9.9e-05\n",
      "Epoch 162/200 | Training loss: 1.37 | Validation accuracy: 94.0% | Learning rate: 9.9e-05\n",
      "Epoch 163/200 | Training loss: 1.37 | Validation accuracy: 94.0% | Learning rate: 9.9e-05\n",
      "Epoch 164/200 | Training loss: 1.37 | Validation accuracy: 94.0% | Learning rate: 9.8e-05\n",
      "Epoch 165/200 | Training loss: 1.37 | Validation accuracy: 94.0% | Learning rate: 9.8e-05\n",
      "Epoch 166/200 | Training loss: 1.37 | Validation accuracy: 94.0% | Learning rate: 9.8e-05\n",
      "Epoch 167/200 | Training loss: 1.37 | Validation accuracy: 94.0% | Learning rate: 9.8e-05\n",
      "Epoch 168/200 | Training loss: 1.37 | Validation accuracy: 94.0% | Learning rate: 9.7e-05\n",
      "Epoch 169/200 | Training loss: 1.37 | Validation accuracy: 94.0% | Learning rate: 9.7e-05\n",
      "Epoch 170/200 | Training loss: 1.37 | Validation accuracy: 94.0% | Learning rate: 9.7e-05\n",
      "Epoch 171/200 | Training loss: 1.37 | Validation accuracy: 94.0% | Learning rate: 9.6e-05\n",
      "Epoch 172/200 | Training loss: 1.37 | Validation accuracy: 94.0% | Learning rate: 9.6e-05\n",
      "Epoch 173/200 | Training loss: 1.37 | Validation accuracy: 94.0% | Learning rate: 9.6e-05\n",
      "Epoch 174/200 | Training loss: 1.37 | Validation accuracy: 94.0% | Learning rate: 9.6e-05\n",
      "Epoch 175/200 | Training loss: 1.37 | Validation accuracy: 94.0% | Learning rate: 9.5e-05\n",
      "Epoch 176/200 | Training loss: 1.37 | Validation accuracy: 94.0% | Learning rate: 9.5e-05\n",
      "Epoch 177/200 | Training loss: 1.37 | Validation accuracy: 94.0% | Learning rate: 9.5e-05\n",
      "Epoch 178/200 | Training loss: 1.37 | Validation accuracy: 94.0% | Learning rate: 9.4e-05\n",
      "Epoch 179/200 | Training loss: 1.37 | Validation accuracy: 94.0% | Learning rate: 9.4e-05\n",
      "Epoch 180/200 | Training loss: 1.37 | Validation accuracy: 94.0% | Learning rate: 9.4e-05\n",
      "Epoch 181/200 | Training loss: 1.37 | Validation accuracy: 94.0% | Learning rate: 9.4e-05\n",
      "Epoch 182/200 | Training loss: 1.37 | Validation accuracy: 94.0% | Learning rate: 9.3e-05\n",
      "Epoch 183/200 | Training loss: 1.37 | Validation accuracy: 94.0% | Learning rate: 9.3e-05\n",
      "Epoch 184/200 | Training loss: 1.37 | Validation accuracy: 94.0% | Learning rate: 9.3e-05\n",
      "Epoch 185/200 | Training loss: 1.37 | Validation accuracy: 94.0% | Learning rate: 9.3e-05\n",
      "Epoch 186/200 | Training loss: 1.37 | Validation accuracy: 94.0% | Learning rate: 9.2e-05\n",
      "Epoch 187/200 | Training loss: 1.37 | Validation accuracy: 94.0% | Learning rate: 9.2e-05\n",
      "Epoch 188/200 | Training loss: 1.37 | Validation accuracy: 94.0% | Learning rate: 9.2e-05\n",
      "Epoch 189/200 | Training loss: 1.37 | Validation accuracy: 94.0% | Learning rate: 9.2e-05\n",
      "Epoch 190/200 | Training loss: 1.37 | Validation accuracy: 94.0% | Learning rate: 9.1e-05\n",
      "Epoch 191/200 | Training loss: 1.37 | Validation accuracy: 94.0% | Learning rate: 9.1e-05\n",
      "Epoch 192/200 | Training loss: 1.37 | Validation accuracy: 94.0% | Learning rate: 9.1e-05\n",
      "Epoch 193/200 | Training loss: 1.37 | Validation accuracy: 94.0% | Learning rate: 9.1e-05\n",
      "Epoch 194/200 | Training loss: 1.37 | Validation accuracy: 94.0% | Learning rate: 9e-05\n",
      "Epoch 195/200 | Training loss: 1.37 | Validation accuracy: 94.0% | Learning rate: 9e-05\n",
      "Epoch 196/200 | Training loss: 1.37 | Validation accuracy: 94.0% | Learning rate: 9e-05\n",
      "Epoch 197/200 | Training loss: 1.37 | Validation accuracy: 94.0% | Learning rate: 9e-05\n",
      "Epoch 198/200 | Training loss: 1.37 | Validation accuracy: 94.0% | Learning rate: 9e-05\n",
      "Epoch 199/200 | Training loss: 1.37 | Validation accuracy: 94.0% | Learning rate: 8.9e-05\n",
      "Epoch 200/200 | Training loss: 1.37 | Validation accuracy: 94.0% | Learning rate: 8.9e-05\n"
     ]
    }
   ],
   "source": [
    "epochs = 200\n",
    "batch_sz = 100\n",
    "\n",
    "def compute_accuracy(model, validation_data, e):\n",
    "    correct = 0\n",
    "    total = 0\n",
    "    with torch.no_grad():\n",
    "        for i in range(0, len(validation_data), batch_sz):\n",
    "            input_tensor_val, output_tensor_val = batch_from_pairs(validation_data[i:i + batch_sz])\n",
    "            target, truth = output_tensor_val[:,:-1], output_tensor_val[:,1:]\n",
    "            \n",
    "            outputs = model(input_tensor_val, target)\n",
    "            outputs = outputs.view(-1,output_lang.n_words)\n",
    "            _, predicted = torch.max(outputs, 1)\n",
    "            \n",
    "            # masking the paded data\n",
    "            mask = (truth.reshape(-1) != 2)\n",
    "            total += truth.reshape(-1)[mask].size(0)\n",
    "\n",
    "            correct += (predicted[mask] == truth.reshape(-1)[mask]).sum().item()\n",
    "   \n",
    "    return correct / total\n",
    "\n",
    "\n",
    "training_loss = []\n",
    "validation_accu = []\n",
    "for epoch in range(epochs):\n",
    "    train_loss = 0\n",
    "    count = 0\n",
    "    \n",
    "    # Training\n",
    "    for i in range(0, len(train), batch_sz):\n",
    "        input_tensor, output_tensor = batch_from_pairs(train[i:i + batch_sz])\n",
    "        loss = train_batch(input_tensor, output_tensor, transformer1, opt1, lr_scheduler)\n",
    "        train_loss += loss\n",
    "        count += 1\n",
    "        \n",
    "    # Validation \n",
    "    training_loss.append(train_loss/count)\n",
    "    validation_accuracy = compute_accuracy(transformer1, val, epoch)\n",
    "    validation_accu.append(validation_accuracy)\n",
    "    if (epoch + 1) % 1 == 0:\n",
    "        print(f\"Epoch {epoch + 1}/{epochs} | Training loss: {round(train_loss / count, 2)} | Validation accuracy: {(round(validation_accuracy, 2))*100}% | Learning rate: {round(lr_scheduler.get_last_lr()[0], 6)}\")"
   ]
  },
  {
   "cell_type": "code",
   "execution_count": 16,
   "id": "352e9f46",
   "metadata": {
    "execution": {
     "iopub.execute_input": "2024-04-21T06:14:23.793570Z",
     "iopub.status.busy": "2024-04-21T06:14:23.793270Z",
     "iopub.status.idle": "2024-04-21T06:14:23.858397Z",
     "shell.execute_reply": "2024-04-21T06:14:23.857679Z"
    },
    "papermill": {
     "duration": 0.090127,
     "end_time": "2024-04-21T06:14:23.860427",
     "exception": false,
     "start_time": "2024-04-21T06:14:23.770300",
     "status": "completed"
    },
    "tags": []
   },
   "outputs": [],
   "source": [
    "torch.save(transformer1.state_dict(), \"transformer_model-4.pth\")"
   ]
  },
  {
   "cell_type": "code",
   "execution_count": 17,
   "id": "ffaa010e",
   "metadata": {
    "execution": {
     "iopub.execute_input": "2024-04-21T06:14:23.905376Z",
     "iopub.status.busy": "2024-04-21T06:14:23.904814Z",
     "iopub.status.idle": "2024-04-21T06:14:24.748517Z",
     "shell.execute_reply": "2024-04-21T06:14:24.747663Z"
    },
    "papermill": {
     "duration": 0.867976,
     "end_time": "2024-04-21T06:14:24.750399",
     "exception": false,
     "start_time": "2024-04-21T06:14:23.882423",
     "status": "completed"
    },
    "tags": []
   },
   "outputs": [
    {
     "data": {
      "image/png": "[encoded data removed]",
      "text/plain": [
       "<Figure size 640x480 with 1 Axes>"
      ]
     },
     "metadata": {},
     "output_type": "display_data"
    },
    {
     "data": {
      "image/png": "[encoded data removed]",
      "text/plain": [
       "<Figure size 640x480 with 1 Axes>"
      ]
     },
     "metadata": {},
     "output_type": "display_data"
    }
   ],
   "source": [
    "import matplotlib.pyplot as plt\n",
    "\n",
    "# Plot loss versus epoch\n",
    "plt.plot(range(1, epochs + 1), training_loss)\n",
    "plt.title('Training Loss vs Epoch')\n",
    "plt.xlabel('Epoch')\n",
    "plt.ylabel('Loss')\n",
    "plt.grid(True)\n",
    "plt.savefig('training_loss_plot-4.png') \n",
    "plt.show()\n",
    "\n",
    "# Plot loss versus epoch\n",
    "plt.plot(range(1, epochs + 1), validation_accu)\n",
    "plt.title('Validation Accuracy vs Epoch')\n",
    "plt.xlabel('Epoch')\n",
    "plt.ylabel('Accuracy')\n",
    "plt.grid(True)\n",
    "plt.savefig('validation_accuracy_plot-4.png')\n",
    "plt.show()"
   ]
  },
  {
   "cell_type": "markdown",
   "id": "e2aee4b4",
   "metadata": {
    "papermill": {
     "duration": 0.022458,
     "end_time": "2024-04-21T06:14:24.795559",
     "exception": false,
     "start_time": "2024-04-21T06:14:24.773101",
     "status": "completed"
    },
    "tags": []
   },
   "source": [
    "# Testing"
   ]
  },
  {
   "cell_type": "code",
   "execution_count": 18,
   "id": "3c3ff63a",
   "metadata": {
    "execution": {
     "iopub.execute_input": "2024-04-21T06:14:24.841310Z",
     "iopub.status.busy": "2024-04-21T06:14:24.841024Z",
     "iopub.status.idle": "2024-04-21T06:15:14.810641Z",
     "shell.execute_reply": "2024-04-21T06:15:14.809696Z"
    },
    "papermill": {
     "duration": 50.017565,
     "end_time": "2024-04-21T06:15:14.835212",
     "exception": false,
     "start_time": "2024-04-21T06:14:24.817647",
     "status": "completed"
    },
    "tags": []
   },
   "outputs": [
    {
     "name": "stdout",
     "output_type": "stream",
     "text": [
      "Test accuracy: 78.0%\n"
     ]
    }
   ],
   "source": [
    "batch_sz = 64\n",
    "correct = 0\n",
    "total = 0\n",
    "# loading the model\n",
    "transformer1.load_state_dict(torch.load(\"transformer_model-4.pth\"))\n",
    "transformer1.eval() \n",
    "\n",
    "with torch.no_grad():\n",
    "    for i in range(0, len(test), batch_sz):\n",
    "        input_tensor_test, output_tensor_test = batch_from_pairs(test[i:i + batch_sz])\n",
    "        target, truth = output_tensor_test[:,:-1], output_tensor_test[:,1:]\n",
    "\n",
    "        outputs = transformer1(input_tensor_test, target)\n",
    "        outputs = outputs.view(-1,output_lang.n_words)\n",
    "        _, predicted = torch.max(outputs, 1)\n",
    "\n",
    "        mask = (truth.reshape(-1) != 2)\n",
    "        total += truth.reshape(-1)[mask].size(0)\n",
    "        correct += (predicted[mask] == truth.reshape(-1)[mask]).sum().item()\n",
    "\n",
    "print(f\"Test accuracy: {(round(correct / total, 2))*100}%\")"
   ]
  },
  {
   "cell_type": "code",
   "execution_count": null,
   "id": "6baf9a14",
   "metadata": {
    "papermill": {
     "duration": 0.022581,
     "end_time": "2024-04-21T06:15:14.880200",
     "exception": false,
     "start_time": "2024-04-21T06:15:14.857619",
     "status": "completed"
    },
    "tags": []
   },
   "outputs": [],
   "source": []
  },
  {
   "cell_type": "code",
   "execution_count": null,
   "id": "e59e9eff",
   "metadata": {
    "papermill": {
     "duration": 0.022335,
     "end_time": "2024-04-21T06:15:14.924991",
     "exception": false,
     "start_time": "2024-04-21T06:15:14.902656",
     "status": "completed"
    },
    "tags": []
   },
   "outputs": [],
   "source": []
  }
 ],
 "metadata": {
  "kaggle": {
   "accelerator": "nvidiaTeslaT4",
   "dataSources": [
    {
     "datasetId": 4804877,
     "sourceId": 8129474,
     "sourceType": "datasetVersion"
    },
    {
     "datasetId": 4825864,
     "sourceId": 8157679,
     "sourceType": "datasetVersion"
    }
   ],
   "dockerImageVersionId": 30683,
   "isGpuEnabled": true,
   "isInternetEnabled": true,
   "language": "python",
   "sourceType": "notebook"
  },
  "kernelspec": {
   "display_name": "Python 3",
   "language": "python",
   "name": "python3"
  },
  "language_info": {
   "codemirror_mode": {
    "name": "ipython",
    "version": 3
   },
   "file_extension": ".py",
   "mimetype": "text/x-python",
   "name": "python",
   "nbconvert_exporter": "python",
   "pygments_lexer": "ipython3",
   "version": "3.10.13"
  },
  "papermill": {
   "default_parameters": {},
   "duration": 42241.147156,
   "end_time": "2024-04-21T06:15:17.881297",
   "environment_variables": {},
   "exception": null,
   "input_path": "__notebook__.ipynb",
   "output_path": "__notebook__.ipynb",
   "parameters": {},
   "start_time": "2024-04-20T18:31:16.734141",
   "version": "2.5.0"
  }
 },
 "nbformat": 4,
 "nbformat_minor": 5
}
